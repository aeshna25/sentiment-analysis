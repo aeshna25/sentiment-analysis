{
 "cells": [
  {
   "cell_type": "code",
   "execution_count": 1,
   "metadata": {},
   "outputs": [
    {
     "name": "stderr",
     "output_type": "stream",
     "text": [
      "F:\\ac\\lib\\site-packages\\ipykernel\\parentpoller.py:116: UserWarning: Parent poll failed.  If the frontend dies,\n",
      "                the kernel may be left running.  Please let us know\n",
      "                about your system (bitness, Python, etc.) at\n",
      "                ipython-dev@scipy.org\n",
      "  ipython-dev@scipy.org\"\"\")\n"
     ]
    }
   ],
   "source": [
    "from textblob import TextBlob\n",
    "import sys, tweepy\n",
    "import matplotlib.pyplot as plt"
   ]
  },
  {
   "cell_type": "code",
   "execution_count": 2,
   "metadata": {},
   "outputs": [],
   "source": [
    "def percentage(part,whole):\n",
    "    return 100* float(part)/float(whole)\n",
    "\n",
    "consumerKey =\"08v3WLP8PvqlK3AQiRXioXGz7\"\n",
    "consumerSecret =\"dV8fUtl2hMrA0Qx8haCWAKxfkVfguCZw2jWWtH8JVITIv0KPso\"\n",
    "accessToken =\"1072431748770750464-MDSAyKmy1xsaKOWSE1MBW6mfv4NYFb\"\n",
    "accessTokenSecret =\"fofJY7o84sSooD18jEQlOnTJ0EvZf3VTbHBj40dALFdRF\""
   ]
  },
  {
   "cell_type": "markdown",
   "metadata": {},
   "source": [
    "ESTABLISH A CONNECTION BETWEEN THE API'S"
   ]
  },
  {
   "cell_type": "code",
   "execution_count": 3,
   "metadata": {},
   "outputs": [],
   "source": [
    "auth =tweepy.OAuthHandler( consumerKey,  consumerSecret)\n",
    "auth.set_access_token(accessToken, accessTokenSecret)\n",
    "api =tweepy.API(auth)"
   ]
  },
  {
   "cell_type": "markdown",
   "metadata": {},
   "source": [
    "TWEETS TO BE ANALYZED"
   ]
  },
  {
   "cell_type": "code",
   "execution_count": 6,
   "metadata": {},
   "outputs": [
    {
     "name": "stdout",
     "output_type": "stream",
     "text": [
      "Enter keyword/hashtag to search about: modi\n",
      "Enter how many tweets to analyze: 100\n"
     ]
    }
   ],
   "source": [
    "searchTerm = input(\"Enter keyword/hashtag to search about: \")\n",
    "noOfSearchTerms = int(input(\"Enter how many tweets to analyze: \"))"
   ]
  },
  {
   "cell_type": "code",
   "execution_count": 8,
   "metadata": {},
   "outputs": [],
   "source": [
    "tweets =tweepy.Cursor(api.search , q=searchTerm, lang=\"English\").items(noOfSearchTerms)"
   ]
  },
  {
   "cell_type": "markdown",
   "metadata": {},
   "source": [
    "The main work of textblob is to give polarity of a sentiment from[-1,1] if negative =-1 , positive =1 and neutral =0"
   ]
  },
  {
   "cell_type": "code",
   "execution_count": 9,
   "metadata": {},
   "outputs": [],
   "source": [
    "positive  =0\n",
    "negative  =0\n",
    "neutral   =0\n",
    "polarity  =0   #gives the average polarity"
   ]
  },
  {
   "cell_type": "code",
   "execution_count": 10,
   "metadata": {},
   "outputs": [],
   "source": [
    "for tweet in tweets:\n",
    "    #print(tweet.text)   (to print the text of the tweet)\n",
    "    analysis =TextBlob(tweet.text)\n",
    "    polarity += analysis.sentiment.polarity #average calculations\n",
    "\n",
    "    if(analysis.sentiment.polarity ==0):\n",
    "        neutral +=1\n",
    "    elif(analysis.sentiment.polarity < 0.00):\n",
    "        negative +=1\n",
    "    elif(analysis.sentiment.polarity>0.00):\n",
    "        positive +=1\n",
    "#call the percentage function        \n",
    "positive = percentage(positive, noOfSearchTerms)\n",
    "negative = percentage(negative, noOfSearchTerms)\n",
    "neutral = percentage(neutral, noOfSearchTerms)\n",
    "#polarity = percentage(polarity, noOfSearchTerms)\n",
    "\n",
    "# since the percetage will consist of more than 7 decimal places, to consis it use format\n",
    "positive = format(positive ,'.2f')\n",
    "negative =format(negative ,'.2f')\n",
    "neutral = format(neutral, '.2f')"
   ]
  },
  {
   "cell_type": "code",
   "execution_count": 11,
   "metadata": {},
   "outputs": [
    {
     "name": "stdout",
     "output_type": "stream",
     "text": [
      "How people are reacting on modi by analyzing 100 Tweets.\n",
      "NEGATIVE\n"
     ]
    },
    {
     "data": {
      "image/png": "[encoded data removed]",
      "text/plain": [
       "<Figure size 432x288 with 1 Axes>"
      ]
     },
     "metadata": {},
     "output_type": "display_data"
    }
   ],
   "source": [
    "#results\n",
    "print (\"How people are reacting on \" + searchTerm + \" by analyzing \" + str(noOfSearchTerms) + ' Tweets.')\n",
    "       \n",
    "if (polarity == 0):\n",
    "    print(\"NEUTRAL\")\n",
    "elif (polarity <0):\n",
    "    print(\"NEGATIVE\")\n",
    "elif (polarity >0):\n",
    "    print(\"POSITIVE\")\n",
    "#percentage of people who find it positive , negative or neutral    \n",
    "labels =['Positive['+str(positive)+'%]', 'Neutral[' + str(neutral) + '%]', 'Negative [' + str(negative) + '%]'] \n",
    "sizes =[positive,neutral, negative]\n",
    "colors =['blue','yellow','red']\n",
    "patches,texts =plt.pie(sizes , colors =colors , startangle =90)\n",
    "plt.legend(patches, labels, loc ='best') #loc=location\n",
    "plt.title('How people are reacting on '+ searchTerm + ' by analyzing ' +str(noOfSearchTerms)+' Tweets.')\n",
    "plt.axis('equal') \n",
    "plt.tight_layout()\n",
    "plt.show()"
   ]
  },
  {
   "cell_type": "code",
   "execution_count": null,
   "metadata": {},
   "outputs": [],
   "source": []
  },
  {
   "cell_type": "code",
   "execution_count": null,
   "metadata": {},
   "outputs": [],
   "source": []
  }
 ],
 "metadata": {
  "kernelspec": {
   "display_name": "Python 3",
   "language": "python",
   "name": "python3"
  },
  "language_info": {
   "codemirror_mode": {
    "name": "ipython",
    "version": 3
   },
   "file_extension": ".py",
   "mimetype": "text/x-python",
   "name": "python",
   "nbconvert_exporter": "python",
   "pygments_lexer": "ipython3",
   "version": "3.7.0"
  }
 },
 "nbformat": 4,
 "nbformat_minor": 2
}
